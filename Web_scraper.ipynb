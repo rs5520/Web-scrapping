{
 "cells": [
  {
   "cell_type": "code",
   "execution_count": 1,
   "id": "637cae2d-10e8-44fc-888f-90c9c81cbf2c",
   "metadata": {},
   "outputs": [
    {
     "name": "stdout",
     "output_type": "stream",
     "text": [
      "Requirement already satisfied: requests in c:\\users\\adity\\anaconda3\\lib\\site-packages (2.31.0)\n",
      "Requirement already satisfied: beautifulsoup4 in c:\\users\\adity\\anaconda3\\lib\\site-packages (4.12.2)\n",
      "Requirement already satisfied: pandas in c:\\users\\adity\\anaconda3\\lib\\site-packages (2.1.4)\n",
      "Requirement already satisfied: charset-normalizer<4,>=2 in c:\\users\\adity\\anaconda3\\lib\\site-packages (from requests) (2.0.4)\n",
      "Requirement already satisfied: idna<4,>=2.5 in c:\\users\\adity\\anaconda3\\lib\\site-packages (from requests) (3.4)\n",
      "Requirement already satisfied: urllib3<3,>=1.21.1 in c:\\users\\adity\\anaconda3\\lib\\site-packages (from requests) (2.0.7)\n",
      "Requirement already satisfied: certifi>=2017.4.17 in c:\\users\\adity\\anaconda3\\lib\\site-packages (from requests) (2024.6.2)\n",
      "Requirement already satisfied: soupsieve>1.2 in c:\\users\\adity\\anaconda3\\lib\\site-packages (from beautifulsoup4) (2.5)\n",
      "Requirement already satisfied: numpy<2,>=1.23.2 in c:\\users\\adity\\anaconda3\\lib\\site-packages (from pandas) (1.26.4)\n",
      "Requirement already satisfied: python-dateutil>=2.8.2 in c:\\users\\adity\\anaconda3\\lib\\site-packages (from pandas) (2.8.2)\n",
      "Requirement already satisfied: pytz>=2020.1 in c:\\users\\adity\\anaconda3\\lib\\site-packages (from pandas) (2023.3.post1)\n",
      "Requirement already satisfied: tzdata>=2022.1 in c:\\users\\adity\\anaconda3\\lib\\site-packages (from pandas) (2023.3)\n",
      "Requirement already satisfied: six>=1.5 in c:\\users\\adity\\anaconda3\\lib\\site-packages (from python-dateutil>=2.8.2->pandas) (1.16.0)\n"
     ]
    }
   ],
   "source": [
    "!pip install requests beautifulsoup4 pandas"
   ]
  },
  {
   "cell_type": "code",
   "execution_count": 73,
   "id": "666eb3cf-3f18-45c2-9fba-a9b4908b70fe",
   "metadata": {},
   "outputs": [],
   "source": [
    "import requests\n",
    "from bs4 import BeautifulSoup\n",
    "import pandas as pd"
   ]
  },
  {
   "cell_type": "code",
   "execution_count": 75,
   "id": "14ef39a6-889b-4273-9b69-4f99b8247641",
   "metadata": {},
   "outputs": [],
   "source": [
    "# Defined the URL of the Amazon search page for iPhones\n",
    "url = \"https://www.amazon.in/s?k=iphone\"\n",
    "\n",
    "# Defined headers to mimic a real browser request\n",
    "headers = {\n",
    "    \"User-Agent\": \"Mozilla/5.0 (Windows NT 10.0; Win64; x64) AppleWebKit/537.36 (KHTML, like Gecko) Chrome/85.0.4183.83 Safari/537.36\"\n",
    "}"
   ]
  },
  {
   "cell_type": "code",
   "execution_count": 77,
   "id": "46488ae6-3b0d-4711-a12f-401a2bfe6457",
   "metadata": {},
   "outputs": [
    {
     "name": "stdout",
     "output_type": "stream",
     "text": [
      "Request successful!\n"
     ]
    }
   ],
   "source": [
    "# Sent a request to the Amazon page\n",
    "response = requests.get(url, headers=headers)\n",
    "\n",
    "# Checked if the request was successful\n",
    "if response.status_code == 200:\n",
    "    print(\"Request successful!\")\n",
    "else:\n",
    "    print(f\"Failed to retrieve data. Status code: {response.status_code}\")\n"
   ]
  },
  {
   "cell_type": "code",
   "execution_count": 79,
   "id": "3f85e0ac-e512-4fb7-85e2-2d0085834e3c",
   "metadata": {},
   "outputs": [],
   "source": [
    "# Parsed the page content\n",
    "soup = BeautifulSoup(response.content, 'html.parser')"
   ]
  },
  {
   "cell_type": "code",
   "execution_count": 81,
   "id": "2022b5ae-2234-49c1-ae40-b5af056bcb16",
   "metadata": {},
   "outputs": [
    {
     "name": "stdout",
     "output_type": "stream",
     "text": [
      "Product Names: ['Apple iPhone 15 (128 GB) - Black', 'Apple iPhone 13 (128GB) - Midnight', 'Apple iPhone 13 (128GB) - Starlight', 'Apple iPhone 14 (128 GB) - Starlight', 'Apple iPhone 15 (128 GB) - Black', 'Apple iPhone 14 (128 GB) - Yellow', 'Apple iPhone 14 (128 GB) - Blue', 'Apple iPhone 13 (128GB) - Pink', 'Apple iPhone 15 (128 GB) - Blue', 'Apple iPhone 13 (128GB) - Midnight', 'Apple iPhone 15 Plus (128 GB) - Black', 'i-Phone 6 64GB Grey - Includes 1-Year Warranty Coverage', 'Apple iPhone 13 (128GB) - Green', 'Apple iPhone 15 Pro (256 GB) - Natural Titanium', 'Apple iPhone 15 (256 GB) - Blue', 'Apple iPhone 14 Plus (128 GB) - Blue', 'Apple iPhone 15 (128 GB) - Pink', 'Apple iPhone 13 (128GB) - Blue', 'Apple iPhone 15 (128 GB) - Green']\n",
      "Product Prices: ['70,499', '51,999', '51,999', '62,600', '70,499', '62,600', '62,600', '51,999', '70,499', '51,999', '79,999', '13,499', '51,999', '1,37,600', '80,600', '71,290', '51,999', '69,999']\n",
      "Product Ratings: ['4.5 out of 5 stars.', '4.5 out of 5 stars', '4.5 out of 5 stars', '4.5 out of 5 stars', '4.5 out of 5 stars', '4.5 out of 5 stars', '4.5 out of 5 stars', '4.5 out of 5 stars', '4.5 out of 5 stars', '4.5 out of 5 stars', '4.5 out of 5 stars', '4.6 out of 5 stars', '4.5 out of 5 stars', '4.3 out of 5 stars', '4.5 out of 5 stars', '4.5 out of 5 stars', '4.5 out of 5 stars', '4.5 out of 5 stars', '4.5 out of 5 stars', '4 Stars & Up']\n"
     ]
    }
   ],
   "source": [
    "# Lists to hold the extracted data\n",
    "product_names = []\n",
    "product_prices = []\n",
    "product_ratings = []\n",
    "\n",
    "# Extract product names\n",
    "for name_tag in soup.find_all(\"span\", class_=\"a-size-medium a-color-base a-text-normal\"):\n",
    "    product_names.append(name_tag.text.strip())\n",
    "\n",
    "# Extract product prices\n",
    "for price_tag in soup.find_all(\"span\", class_=\"a-price-whole\"):\n",
    "    product_prices.append(price_tag.text.strip())\n",
    "\n",
    "# Extract product ratings\n",
    "for rating_tag in soup.find_all(\"span\", class_=\"a-icon-alt\"):\n",
    "    product_ratings.append(rating_tag.text.strip())\n",
    "\n",
    "# Display the extracted data\n",
    "print(\"Product Names:\", product_names)\n",
    "print(\"Product Prices:\", product_prices)\n",
    "print(\"Product Ratings:\", product_ratings)"
   ]
  },
  {
   "cell_type": "code",
   "execution_count": 83,
   "id": "a18ac0f6-fe05-402e-a67b-408ca76f5d5a",
   "metadata": {},
   "outputs": [
    {
     "name": "stdout",
     "output_type": "stream",
     "text": [
      "Number of Product Names: 19\n",
      "Number of Product Prices: 18\n",
      "Number of Product Ratings: 20\n"
     ]
    }
   ],
   "source": [
    "print(\"Number of Product Names:\", len(product_names))\n",
    "print(\"Number of Product Prices:\", len(product_prices))\n",
    "print(\"Number of Product Ratings:\", len(product_ratings))"
   ]
  },
  {
   "cell_type": "code",
   "execution_count": 85,
   "id": "dd45ab2f-8723-42c7-b764-1b943cfd5f7d",
   "metadata": {},
   "outputs": [],
   "source": [
    "# Find the minimum length among the lists\n",
    "min_length = min(len(product_names), len(product_prices), len(product_ratings))\n",
    "\n",
    "# Trim all lists to the minimum length\n",
    "product_names = product_names[:min_length]\n",
    "product_prices = product_prices[:min_length]\n",
    "product_ratings = product_ratings[:min_length]"
   ]
  },
  {
   "cell_type": "code",
   "execution_count": 87,
   "id": "222e3eed-af12-4cfe-a110-97b984cd5061",
   "metadata": {},
   "outputs": [
    {
     "data": {
      "text/html": [
       "<div>\n",
       "<style scoped>\n",
       "    .dataframe tbody tr th:only-of-type {\n",
       "        vertical-align: middle;\n",
       "    }\n",
       "\n",
       "    .dataframe tbody tr th {\n",
       "        vertical-align: top;\n",
       "    }\n",
       "\n",
       "    .dataframe thead th {\n",
       "        text-align: right;\n",
       "    }\n",
       "</style>\n",
       "<table border=\"1\" class=\"dataframe\">\n",
       "  <thead>\n",
       "    <tr style=\"text-align: right;\">\n",
       "      <th></th>\n",
       "      <th>Product Name</th>\n",
       "      <th>Price</th>\n",
       "      <th>Rating</th>\n",
       "    </tr>\n",
       "  </thead>\n",
       "  <tbody>\n",
       "    <tr>\n",
       "      <th>0</th>\n",
       "      <td>Apple iPhone 15 (128 GB) - Black</td>\n",
       "      <td>70,499</td>\n",
       "      <td>4.5 out of 5 stars.</td>\n",
       "    </tr>\n",
       "    <tr>\n",
       "      <th>1</th>\n",
       "      <td>Apple iPhone 13 (128GB) - Midnight</td>\n",
       "      <td>51,999</td>\n",
       "      <td>4.5 out of 5 stars</td>\n",
       "    </tr>\n",
       "    <tr>\n",
       "      <th>2</th>\n",
       "      <td>Apple iPhone 13 (128GB) - Starlight</td>\n",
       "      <td>51,999</td>\n",
       "      <td>4.5 out of 5 stars</td>\n",
       "    </tr>\n",
       "    <tr>\n",
       "      <th>3</th>\n",
       "      <td>Apple iPhone 14 (128 GB) - Starlight</td>\n",
       "      <td>62,600</td>\n",
       "      <td>4.5 out of 5 stars</td>\n",
       "    </tr>\n",
       "    <tr>\n",
       "      <th>4</th>\n",
       "      <td>Apple iPhone 15 (128 GB) - Black</td>\n",
       "      <td>70,499</td>\n",
       "      <td>4.5 out of 5 stars</td>\n",
       "    </tr>\n",
       "  </tbody>\n",
       "</table>\n",
       "</div>"
      ],
      "text/plain": [
       "                           Product Name   Price               Rating\n",
       "0      Apple iPhone 15 (128 GB) - Black  70,499  4.5 out of 5 stars.\n",
       "1    Apple iPhone 13 (128GB) - Midnight  51,999   4.5 out of 5 stars\n",
       "2   Apple iPhone 13 (128GB) - Starlight  51,999   4.5 out of 5 stars\n",
       "3  Apple iPhone 14 (128 GB) - Starlight  62,600   4.5 out of 5 stars\n",
       "4      Apple iPhone 15 (128 GB) - Black  70,499   4.5 out of 5 stars"
      ]
     },
     "execution_count": 87,
     "metadata": {},
     "output_type": "execute_result"
    }
   ],
   "source": [
    "# Create a DataFrame to store the data\n",
    "data = {\n",
    "    \"Product Name\": product_names,\n",
    "    \"Price\": product_prices,\n",
    "    \"Rating\": product_ratings\n",
    "}\n",
    "df = pd.DataFrame(data)\n",
    "\n",
    "# Display the DataFrame\n",
    "df.head()\n"
   ]
  },
  {
   "cell_type": "code",
   "execution_count": 89,
   "id": "53dffcca-0d0b-4bd7-a6e1-eb267b6a8433",
   "metadata": {},
   "outputs": [
    {
     "name": "stdout",
     "output_type": "stream",
     "text": [
      "Number of Product Names: 18\n",
      "Number of Product Prices: 18\n",
      "Number of Product Ratings: 18\n"
     ]
    },
    {
     "data": {
      "text/html": [
       "<div>\n",
       "<style scoped>\n",
       "    .dataframe tbody tr th:only-of-type {\n",
       "        vertical-align: middle;\n",
       "    }\n",
       "\n",
       "    .dataframe tbody tr th {\n",
       "        vertical-align: top;\n",
       "    }\n",
       "\n",
       "    .dataframe thead th {\n",
       "        text-align: right;\n",
       "    }\n",
       "</style>\n",
       "<table border=\"1\" class=\"dataframe\">\n",
       "  <thead>\n",
       "    <tr style=\"text-align: right;\">\n",
       "      <th></th>\n",
       "      <th>Product Name</th>\n",
       "      <th>Price</th>\n",
       "      <th>Rating</th>\n",
       "    </tr>\n",
       "  </thead>\n",
       "  <tbody>\n",
       "    <tr>\n",
       "      <th>0</th>\n",
       "      <td>Apple iPhone 15 (128 GB) - Black</td>\n",
       "      <td>70,499</td>\n",
       "      <td>4.5 out of 5 stars.</td>\n",
       "    </tr>\n",
       "    <tr>\n",
       "      <th>1</th>\n",
       "      <td>Apple iPhone 13 (128GB) - Midnight</td>\n",
       "      <td>51,999</td>\n",
       "      <td>4.5 out of 5 stars</td>\n",
       "    </tr>\n",
       "    <tr>\n",
       "      <th>2</th>\n",
       "      <td>Apple iPhone 13 (128GB) - Starlight</td>\n",
       "      <td>51,999</td>\n",
       "      <td>4.5 out of 5 stars</td>\n",
       "    </tr>\n",
       "    <tr>\n",
       "      <th>3</th>\n",
       "      <td>Apple iPhone 14 (128 GB) - Starlight</td>\n",
       "      <td>62,600</td>\n",
       "      <td>4.5 out of 5 stars</td>\n",
       "    </tr>\n",
       "    <tr>\n",
       "      <th>4</th>\n",
       "      <td>Apple iPhone 15 (128 GB) - Black</td>\n",
       "      <td>70,499</td>\n",
       "      <td>4.5 out of 5 stars</td>\n",
       "    </tr>\n",
       "  </tbody>\n",
       "</table>\n",
       "</div>"
      ],
      "text/plain": [
       "                           Product Name   Price               Rating\n",
       "0      Apple iPhone 15 (128 GB) - Black  70,499  4.5 out of 5 stars.\n",
       "1    Apple iPhone 13 (128GB) - Midnight  51,999   4.5 out of 5 stars\n",
       "2   Apple iPhone 13 (128GB) - Starlight  51,999   4.5 out of 5 stars\n",
       "3  Apple iPhone 14 (128 GB) - Starlight  62,600   4.5 out of 5 stars\n",
       "4      Apple iPhone 15 (128 GB) - Black  70,499   4.5 out of 5 stars"
      ]
     },
     "execution_count": 89,
     "metadata": {},
     "output_type": "execute_result"
    }
   ],
   "source": [
    "# Check the lengths of each list\n",
    "print(\"Number of Product Names:\", len(product_names))\n",
    "print(\"Number of Product Prices:\", len(product_prices))\n",
    "print(\"Number of Product Ratings:\", len(product_ratings))\n",
    "\n",
    "# Find the minimum length among the lists\n",
    "min_length = min(len(product_names), len(product_prices), len(product_ratings))\n",
    "\n",
    "# Trim all lists to the minimum length\n",
    "product_names = product_names[:min_length]\n",
    "product_prices = product_prices[:min_length]\n",
    "product_ratings = product_ratings[:min_length]\n",
    "\n",
    "# Create a DataFrame to store the data\n",
    "data = {\n",
    "    \"Product Name\": product_names,\n",
    "    \"Price\": product_prices,\n",
    "    \"Rating\": product_ratings\n",
    "}\n",
    "df = pd.DataFrame(data)\n",
    "\n",
    "# Display the DataFrame\n",
    "df.head()\n"
   ]
  },
  {
   "cell_type": "code",
   "execution_count": 91,
   "id": "8596446b-9f39-43a5-ad39-57f5bdb8a38c",
   "metadata": {},
   "outputs": [
    {
     "name": "stdout",
     "output_type": "stream",
     "text": [
      "Data has been successfully saved to amazon_iphone_products.csv\n"
     ]
    }
   ],
   "source": [
    "# Save the data to a CSV file\n",
    "df.to_csv('amazon_iphone_products.csv', index=False)\n",
    "print(\"Data has been successfully saved to amazon_iphone_products.csv\")\n"
   ]
  }
 ],
 "metadata": {
  "kernelspec": {
   "display_name": "Python 3 (ipykernel)",
   "language": "python",
   "name": "python3"
  },
  "language_info": {
   "codemirror_mode": {
    "name": "ipython",
    "version": 3
   },
   "file_extension": ".py",
   "mimetype": "text/x-python",
   "name": "python",
   "nbconvert_exporter": "python",
   "pygments_lexer": "ipython3",
   "version": "3.11.7"
  }
 },
 "nbformat": 4,
 "nbformat_minor": 5
}
